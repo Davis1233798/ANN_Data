{
  "cells": [
    {
      "cell_type": "markdown",
      "metadata": {
        "id": "view-in-github",
        "colab_type": "text"
      },
      "source": [
        "<a href=\"https://colab.research.google.com/github/Davis1233798/ANN_Data/blob/main/rclone%20%2B%20aria2%20Webui.ipynb\" target=\"_parent\"><img src=\"https://colab.research.google.com/assets/colab-badge.svg\" alt=\"Open In Colab\"/></a>"
      ]
    },
    {
      "cell_type": "markdown",
      "metadata": {
        "id": "L5FYg8VltTjL"
      },
      "source": [
        "### Collection 合集\n",
        "1. [connect_remote_storage.ipynb](https://colab.research.google.com/drive/1_Hg9suxwuwB2gALOxew72f1ZNcAXC0xb?usp=sharing)\n",
        "2. [host_file_server.ipynb](https://colab.research.google.com/drive/1bjBiETbHdbDHb6IQSrEFu3-DwJmMPyzb?usp=sharing)\n",
        "3. [goog/colab/keep-alive.user.js](https://raw.githubusercontent.com/foxe6/goog/main/userscripts/colab/keep-alive.user.js)\n",
        "4. [host_ssh_server.ipynb](https://colab.research.google.com/drive/1502I-4RAV00tpOANWWyKPOdqS9U2SU7V?usp=sharing)\n",
        "5. [run_browser_automation_tool.ipynb](https://colab.research.google.com/drive/13SWamKfY0-itUqd3SguFir02rVzt3HpK?usp=sharing)\n",
        "6. [headless_browser_GUI.ipynb](https://colab.research.google.com/drive/1JRPFUX-p1IXOVkNLyhpdA0Ou8YjmaTCx?usp=sharing)\n",
        "7. [remote_browser_automation.ipynb](https://colab.research.google.com/drive/14WeagkqECVmdPXWvPlj4nG2tj-wJZX_8?usp=sharing)\n",
        "8. [remote_control_a_browser.ipynb](https://colab.research.google.com/drive/1UFkStnKIKEsbxUun8y8w9Swce3A6uiIj?usp=sharing)\n",
        "9. [downloader_aria2_rpc.ipynb](https://colab.research.google.com/drive/17OhdKYDYfsa8frkOV3WxbwFZ2LdzTiYP?usp=sharing)\n",
        "\n"
      ]
    },
    {
      "cell_type": "code",
      "execution_count": null,
      "metadata": {
        "id": "POG-oYbBU9yJ"
      },
      "outputs": [],
      "source": [
        "#@title { display-mode: \"form\" }\n",
        "#@markdown -Install Prerequisites 安装先决条件\n",
        "import IPython\n",
        "from IPython.display import clear_output\n",
        "\n",
        "!python3.7 -m pip install goog aria2rpc==1.0.0 --use-deprecated=legacy-resolver -U --no-cache\n",
        "clear_output()"
      ]
    },
    {
      "cell_type": "code",
      "execution_count": null,
      "metadata": {
        "cellView": "form",
        "id": "n90rBgK3U1Ch"
      },
      "outputs": [],
      "source": [
        "#@markdown Install aria2 安装 aria2\n",
        "!pkill aria2c\n",
        "!pkill cloudflared\n",
        "import goog.colab\n",
        "from mixlab import (\n",
        "    runSh,\n",
        "    PortForward_wrapper,\n",
        "    findProcess,\n",
        "    findPackageR\n",
        ")\n",
        "import os\n",
        "import pathlib\n",
        "import zipfile\n",
        "import random\n",
        "import re\n",
        "import urllib.request\n",
        "import requests\n",
        "from urllib.parse import urlparse\n",
        "import IPython\n",
        "from IPython.display import clear_output\n",
        "\n",
        "runSh('apt install -y aria2')\n",
        "pathlib.Path('ariang').mkdir(mode=0o777, exist_ok=True)\n",
        "if not os.path.exists(\"ariang/index.html\"):\n",
        "    urllib.request.urlretrieve(\n",
        "        findPackageR('mayswind/AriaNg', 'AllInOne.zip'),\n",
        "        'ariang/new.zip'\n",
        "    )\n",
        "    with zipfile.ZipFile('ariang/new.zip', 'r') as zip_ref:\n",
        "        zip_ref.extractall('ariang')\n",
        "    try:\n",
        "        pathlib.Path('ariang/new.zip').unlink()\n",
        "    except FileNotFoundError:\n",
        "        pass\n",
        "clear_output()"
      ]
    },
    {
      "cell_type": "code",
      "execution_count": null,
      "metadata": {
        "id": "zBW1LXQyuzIC"
      },
      "outputs": [],
      "source": [
        "#@title { display-mode: \"form\" }\n",
        "#@markdown Start aria2 启动 aria2\n",
        "!pkill aria2c\n",
        "!pkill cloudflared\n",
        "import goog.colab\n",
        "from mixlab import (\n",
        "    runSh,\n",
        "    PortForward_wrapper,\n",
        "    findProcess,\n",
        "    findPackageR\n",
        ")\n",
        "import os\n",
        "import pathlib\n",
        "import zipfile\n",
        "import random\n",
        "import re\n",
        "import urllib.request\n",
        "import requests\n",
        "from urllib.parse import urlparse\n",
        "import IPython\n",
        "from IPython.display import clear_output\n",
        "\n",
        "\n",
        "save_location=\"/mnt/goog\" #@param{type:\"string\"}\n",
        "rpc_listen_port=6800\n",
        "rpc_ip_host = None\n",
        "on_download_complete=\"https://raw.githubusercontent.com/foxe6/MiXLab/master/resources/aria2/on_download_complete.py\" #@param{type:\"string\"}\n",
        "try:\n",
        "    odc = requests.get(on_download_complete).text\n",
        "    on_download_complete = \"/content/\"+os.path.basename(on_download_complete)\n",
        "    open(on_download_complete, \"wb\").write(odc.encode())\n",
        "    pathlib.Path(on_download_complete).chmod(0o777)\n",
        "except:\n",
        "    on_download_complete = None\n",
        "pathlib.Path(save_location).mkdir(mode=0o777, exist_ok=True)\n",
        "if not findProcess(\"aria2c\", \"--enable-rpc\"):\n",
        "        try:\n",
        "            trackers = requests.get(\n",
        "                \"https://trackerslist.com/best_aria2.txt\"\n",
        "            ).text\n",
        "            cmdC = (r\"aria2c --enable-rpc --rpc-listen-port={} -D \".format(rpc_listen_port) +\n",
        "                r\"-d {} \".format(save_location) +\n",
        "                r\"-c \" +\n",
        "                fr\"--bt-tracker={trackers} \" +\n",
        "                r\"--bt-request-peer-speed-limit=8M \" +\n",
        "                r\"--bt-max-peers=0 \" +\n",
        "                r\"--seed-ratio=0.0 \" +\n",
        "                r\"--max-upload-limit=2M \" +\n",
        "                r\"--max-download-limit=8M \" +\n",
        "                r\"--max-overall-download-limit=15M \" +\n",
        "                r\"--max-connection-per-server=8 \" +\n",
        "                r\"--max-download-result=100 \" +\n",
        "                r\"--max-concurrent-downloads=1 \" +\n",
        "                r\"--min-split-size=10M \" +\n",
        "                r\"--follow-torrent=false \" +\n",
        "                r\"--disable-ipv6=true \" +\n",
        "                r\"--rpc-allow-origin-all=true \" +\n",
        "                r\"--check-certificate=false \" +\n",
        "                r\"--user-agent='Mozilla/5.0 (Windows NT 10.0; Win64; x64) AppleWebKit/537.36 (KHTML, like Gecko) Chrome/94.0.4606.61 Safari/537.36' \"+\n",
        "                r\"--peer-agent=Transmission/2.77 \" +\n",
        "                r\"--peer-id-prefix=-TR2770- \" +\n",
        "                r\"--split=20 \" +\n",
        "                (r\"--on-download-complete='{}'\".format(on_download_complete) if on_download_complete else \"\") +\n",
        "                r\" &\")\n",
        "            # print(cmdC)\n",
        "            runSh(cmdC, shell=True)\n",
        "            Server = PortForward_wrapper(\n",
        "                \"argotunnel\",\n",
        "                \"\",\n",
        "                True,\n",
        "                [['aria2_rpc', rpc_listen_port, 'http']],\n",
        "                \"jp\",\n",
        "                [\"\", random.randint(5000,5500)]\n",
        "            )\n",
        "            data = Server.start('aria2_rpc', displayB=False, v=False)\n",
        "            rpc_ip_host = urlparse(data['url']).hostname\n",
        "        except:\n",
        "            print(\"aria2 RPC cannot be started! Please try to re-run the cell.\")\n",
        "\n",
        "\n",
        "clear_output()\n"
      ]
    },
    {
      "cell_type": "code",
      "execution_count": null,
      "metadata": {
        "colab": {
          "base_uri": "https://localhost:8080/"
        },
        "id": "OigaMqiGuzyC",
        "outputId": "35f344c8-d76c-458f-b474-2b3c7e2ea6de"
      },
      "outputs": [
        {
          "output_type": "stream",
          "name": "stdout",
          "text": [
            "http://rocky-desire-sagem-anchor.trycloudflare.com\n"
          ]
        }
      ],
      "source": [
        "#@title { display-mode: \"form\" }\n",
        "#@markdown - Start Web UI 启动网页界面\n",
        "import goog.colab\n",
        "from mixlab import (\n",
        "    runSh,\n",
        "    PortForward_wrapper,\n",
        "    findProcess,\n",
        "    findPackageR\n",
        ")\n",
        "import os\n",
        "import pathlib\n",
        "import zipfile\n",
        "import random\n",
        "import re\n",
        "import urllib.request\n",
        "import requests\n",
        "from urllib.parse import urlparse\n",
        "\n",
        "\n",
        "web_ui_port=6801\n",
        "if not rpc_ip_host:\n",
        "    raise ValueError(\"rpc_ip_host\")\n",
        "filePath = 'ariang/index.html'\n",
        "with open(filePath, 'r+') as f:\n",
        "    read_data = f.read()\n",
        "    f.seek(0)\n",
        "    f.truncate(0)\n",
        "    read_data = re.sub(r'(rpcHost:\"\\w+.\")|rpcHost:\"\"', 'rpcHost:\"{}\"'.format(rpc_ip_host), read_data)\n",
        "    read_data = re.sub(r'protocol:\"\\w+.\"', r'protocol:\"ws\"', read_data)\n",
        "    read_data = re.sub(r'rpcPort:\"\\d+.\"', 'rpcPort:\"80\"', read_data)\n",
        "    read_data = re.sub(r'globalStatRefreshInterval:1e3,downloadTaskRefreshInterval:1e3',\n",
        "                        'globalStatRefreshInterval:5e3,downloadTaskRefreshInterval:5e3', read_data)\n",
        "    f.write(read_data)\n",
        "try:\n",
        "    urllib.request.urlopen(\"http://localhost:{}\".format(web_ui_port))\n",
        "except:\n",
        "    runSh(\"python3 -m http.server {} &\".format(web_ui_port), shell=True, cd=\"ariang/\")\n",
        "Server = PortForward_wrapper(\n",
        "    \"argotunnel\",\n",
        "    \"\",\n",
        "    True,\n",
        "    [['ariang', web_ui_port, 'http']],\n",
        "    \"jp\",\n",
        "    [\"\", random.randint(5000,5500)]\n",
        ")\n",
        "data = Server.start('ariang', displayB=False, v=False)\n",
        "print(urlparse(data['url'])._replace(scheme='http').geturl())\n",
        "\n"
      ]
    },
    {
      "cell_type": "code",
      "execution_count": null,
      "metadata": {
        "id": "VMAZNDHAjgPh",
        "cellView": "form"
      },
      "outputs": [],
      "source": [
        "# ============================= FORM ============================= #\n",
        "#@markdown <font size=5>← Install rclone</font>\n",
        "# ================================================================ #\n",
        "\n",
        "import os\n",
        "import IPython\n",
        "from IPython.display import clear_output\n",
        "\n",
        "!curl https://rclone.org/install.sh | sudo bash\n",
        "\n",
        "try:\n",
        "\tos.makedirs(\"/root/.config/rclone\", exist_ok=True)\n",
        "except OSError as error:\n",
        "\tpass\n",
        "\n",
        "\n",
        "clear_output()"
      ]
    },
    {
      "cell_type": "code",
      "execution_count": null,
      "metadata": {
        "id": "W-ZVaoJejl6R"
      },
      "outputs": [],
      "source": [
        "#@ ← title rclone config\n",
        "import IPython\n",
        "from IPython.display import clear_output\n",
        "\n",
        "!rclone config\n",
        "clear_output()"
      ]
    },
    {
      "cell_type": "code",
      "execution_count": null,
      "metadata": {
        "cellView": "form",
        "colab": {
          "base_uri": "https://localhost:8080/",
          "height": 184,
          "referenced_widgets": [
            "1e7acd52442a4d9cbab5d86a7bdcab18",
            "2f470cd4df544cc4845c0e6348f2b191",
            "d33a7c2ed49942759268b199e1f050a5",
            "2dba879fd39c4d98bfc7aa1671512adc",
            "ab8b9828936a41ae8636ad1e06de804e",
            "0ced4a5bc0c7487b84413a6ab798ca43",
            "4437758629d74584b20aec75cba433ad",
            "42f0bb2b3bea46248cf0a711234fd06c",
            "99737bbc71f043bb9b9d35165a176ada",
            "349ca32e50ca40bdb7d062c260284136"
          ]
        },
        "id": "9dcbRpPgjzVa",
        "outputId": "839809e0-eb8b-45e8-fb46-bfb9e874cefd"
      },
      "outputs": [
        {
          "output_type": "display_data",
          "data": {
            "text/plain": [
              "HBox(children=(VBox(children=(HTML(value='<h3 style=\"font-family:Trebuchet MS;color:#4f8bd6;margin-top:0px;\">\\…"
            ],
            "application/vnd.jupyter.widget-view+json": {
              "version_major": 2,
              "version_minor": 0,
              "model_id": "1e7acd52442a4d9cbab5d86a7bdcab18"
            }
          },
          "metadata": {}
        },
        {
          "output_type": "display_data",
          "data": {
            "text/plain": [
              "<IPython.core.display.HTML object>"
            ],
            "text/html": [
              "<br>"
            ]
          },
          "metadata": {}
        },
        {
          "output_type": "display_data",
          "data": {
            "text/plain": [
              "<__main__.MakeButton at 0x7f18e5f8f290>"
            ],
            "text/html": [
              "<button class=\"p-Widget jupyter-widgets jupyter-button widget-button mod-primary\" id=\"button-a4cf3544-3939-4940-bfd4-13b2218aaea3\">Mount</button>\n",
              "        <script>\n",
              "          document.querySelector(\"#button-a4cf3544-3939-4940-bfd4-13b2218aaea3\").onclick = (e) => {\n",
              "            google.colab.kernel.invokeFunction('button-a4cf3544-3939-4940-bfd4-13b2218aaea3', [], {})\n",
              "            e.preventDefault();\n",
              "          };\n",
              "        </script>"
            ]
          },
          "metadata": {}
        },
        {
          "output_type": "display_data",
          "data": {
            "text/plain": [
              "<__main__.MakeButton at 0x7f18e5f8f910>"
            ],
            "text/html": [
              "<button class=\"p-Widget jupyter-widgets jupyter-button widget-button mod-danger\" id=\"button-7ee58e40-5a3f-43c0-aaaf-9a96e4968feb\">Unmount</button>\n",
              "        <script>\n",
              "          document.querySelector(\"#button-7ee58e40-5a3f-43c0-aaaf-9a96e4968feb\").onclick = (e) => {\n",
              "            google.colab.kernel.invokeFunction('button-7ee58e40-5a3f-43c0-aaaf-9a96e4968feb', [], {})\n",
              "            e.preventDefault();\n",
              "          };\n",
              "        </script>"
            ]
          },
          "metadata": {}
        },
        {
          "output_type": "stream",
          "name": "stdout",
          "text": [
            "The drive have been successfully mounted! - \t/content/drives/w\n"
          ]
        }
      ],
      "source": [
        "# ============================= FORM ============================= #\n",
        "# @markdown <font size=5>← Mount/Unmount rclone Drive (Optional)</font>\n",
        "# @markdown Mount a remote drive as a local drive on a mountpoint.\n",
        "# @markdown ---\n",
        "Cache_Directory = \"DISK\" #@param [\"RAM\", \"DISK\"]\n",
        "# ================================================================ #\n",
        "\n",
        "import os\n",
        "from IPython.display import HTML, clear_output\n",
        "import uuid\n",
        "import ipywidgets as widgets\n",
        "from google.colab import output\n",
        "import re\n",
        "\n",
        "if not os.path.exists(\"/root/.ipython/mixlab.py\"):\n",
        "  from shlex import split as _spl\n",
        "  from subprocess import run\n",
        "\n",
        "  shellCmd = \"wget -qq https://shirooo39.github.io/MiXLab/resources/mixlab.py \\\n",
        "                  -O /root/.ipython/mixlab.py\"\n",
        "  run(_spl(shellCmd))\n",
        "\n",
        "from mixlab import (\n",
        "    runSh,\n",
        "    prepareSession,\n",
        "    rcloneConfigurationPath,\n",
        ")\n",
        "\n",
        "class MakeButton(object):\n",
        "  def __init__(self, title, callback, style):\n",
        "    self._title = title\n",
        "    self._callback = callback\n",
        "    self._style = style\n",
        "  def _repr_html_(self):\n",
        "    callback_id = 'button-' + str(uuid.uuid4())\n",
        "    output.register_callback(callback_id, self._callback)\n",
        "    if self._style != \"\":\n",
        "      style_html = \"p-Widget jupyter-widgets jupyter-button widget-button mod-\" + self._style\n",
        "    else:\n",
        "      style_html = \"p-Widget jupyter-widgets jupyter-button widget-button\"\n",
        "    template = \"\"\"<button class=\"{style_html}\" id=\"{callback_id}\">{title}</button>\n",
        "        <script>\n",
        "          document.querySelector(\"#{callback_id}\").onclick = (e) => {{\n",
        "            google.colab.kernel.invokeFunction('{callback_id}', [], {{}})\n",
        "            e.preventDefault();\n",
        "          }};\n",
        "        </script>\"\"\"\n",
        "    html = template.format(title=self._title, callback_id=callback_id, style_html=style_html)\n",
        "    return html\n",
        "  \n",
        "def ShowAC():\n",
        "  clear_output(wait=True)\n",
        "  display(\n",
        "      widgets.HBox(\n",
        "          [widgets.VBox(\n",
        "              [widgets.HTML(\n",
        "                  '''<h3 style=\"font-family:Trebuchet MS;color:#4f8bd6;margin-top:0px;\">\n",
        "                  Available drive to mount/unmount:</h3>\n",
        "                  '''\n",
        "                  ),\n",
        "               mountNam]\n",
        "               )\n",
        "          ]\n",
        "          )\n",
        "      )\n",
        "  \n",
        "  display(HTML(\"<br>\"), MakeButton(\"Mount\", MountCMD, \"primary\"),\n",
        "          MakeButton(\"Unmount\", unmountCMD, \"danger\"))\n",
        "\n",
        "prepareSession()\n",
        "content = open(f\"{rcloneConfigurationPath}/rclone.conf\").read()\n",
        "avCon = re.findall(r\"^\\[(.+)\\]$\", content, re.M)\n",
        "mountNam = widgets.Dropdown(options=avCon)\n",
        "\n",
        "if Cache_Directory == 'RAM':\n",
        "  cache_path = '/dev/shm'\n",
        "elif Cache_Directory == 'DISK':\n",
        "  os.makedirs('/tmp', exist_ok=True)\n",
        "  cache_path = '/tmp'\n",
        "\n",
        "def MountCMD():\n",
        "    mPoint = f\"/content/drives/{mountNam.value}\"\n",
        "    os.makedirs(mPoint, exist_ok=True)\n",
        "    cmd = rf\"rclone mount {mountNam.value}: {mPoint}\" \\\n",
        "      rf\" --config {rcloneConfigurationPath}/rclone.conf\" \\\n",
        "      ' --user-agent \"Mozilla\"' \\\n",
        "      ' --buffer-size 256M' \\\n",
        "      ' --transfers 10' \\\n",
        "      ' --vfs-cache-mode full' \\\n",
        "      ' --vfs-cache-max-age 0h0m1s' \\\n",
        "      ' --vfs-cache-poll-interval 0m1s' \\\n",
        "      f' --cache-dir {cache_path}' \\\n",
        "      ' --allow-other' \\\n",
        "      ' --daemon'\n",
        "\n",
        "    if runSh(cmd, shell=True) == 0:\n",
        "      print(f\"The drive have been successfully mounted! - \\t{mPoint}\")\n",
        "    else:\n",
        "      print(f\"Failed to mount the drive! - \\t{mPoint}\")\n",
        "\n",
        "def unmountCMD():\n",
        "  mPoint = f\"/content/drives/{mountNam.value}\"\n",
        "  if os.system(f\"fusermount -uz {mPoint}\") == 0:\n",
        "    runSh(f\"rm -r {mPoint}\")\n",
        "    print(f\"The drive have been successfully unmounted! - \\t{mPoint}\")\n",
        "  else:\n",
        "    runSh(f\"fusermount -uz {mPoint}\", output=True)\n",
        "\n",
        "ShowAC()"
      ]
    },
    {
      "cell_type": "code",
      "execution_count": null,
      "metadata": {
        "colab": {
          "base_uri": "https://localhost:8080/"
        },
        "id": "hDmKP4oNlmcT",
        "outputId": "b298e520-6295-4927-9c75-5a3a3367c749",
        "cellView": "form"
      },
      "outputs": [
        {
          "output_type": "stream",
          "name": "stdout",
          "text": [
            "This cell has been running for 31 minute(s)...\n"
          ]
        }
      ],
      "source": [
        "# ==============================#============================== #\n",
        "# @markdown <font size=\"4\">Run this cell if there is no methods working in Method 1.</font>\n",
        "# @markdown > If you want to run other cell, stop this first and then run it again if you need it.\n",
        "# ==============================#============================== #\n",
        "\n",
        "import time\n",
        "from IPython.display import clear_output\n",
        "\n",
        "\n",
        "def loop():\n",
        "    counter = 0\n",
        "    second = 60\n",
        "\n",
        "    while True:\n",
        "        clear_output()\n",
        "\n",
        "        print(f'This cell has been running for {counter} minute(s)...')\n",
        "\n",
        "        counter += 1\n",
        "        time.sleep(second)\n",
        "\n",
        "\n",
        "if __name__ == '__main__':\n",
        "    try:\n",
        "        loop()\n",
        "    except KeyboardInterrupt:\n",
        "        clear_output()\n",
        "        exit\n",
        "    else:\n",
        "        pass\n"
      ]
    }
  ],
  "metadata": {
    "colab": {
      "provenance": [],
      "include_colab_link": true
    },
    "kernelspec": {
      "display_name": "Python 3",
      "name": "python3"
    },
    "language_info": {
      "name": "python"
    },
    "widgets": {
      "application/vnd.jupyter.widget-state+json": {
        "1e7acd52442a4d9cbab5d86a7bdcab18": {
          "model_module": "@jupyter-widgets/controls",
          "model_name": "HBoxModel",
          "model_module_version": "1.5.0",
          "state": {
            "_dom_classes": [],
            "_model_module": "@jupyter-widgets/controls",
            "_model_module_version": "1.5.0",
            "_model_name": "HBoxModel",
            "_view_count": null,
            "_view_module": "@jupyter-widgets/controls",
            "_view_module_version": "1.5.0",
            "_view_name": "HBoxView",
            "box_style": "",
            "children": [
              "IPY_MODEL_2f470cd4df544cc4845c0e6348f2b191"
            ],
            "layout": "IPY_MODEL_d33a7c2ed49942759268b199e1f050a5"
          }
        },
        "2f470cd4df544cc4845c0e6348f2b191": {
          "model_module": "@jupyter-widgets/controls",
          "model_name": "VBoxModel",
          "model_module_version": "1.5.0",
          "state": {
            "_dom_classes": [],
            "_model_module": "@jupyter-widgets/controls",
            "_model_module_version": "1.5.0",
            "_model_name": "VBoxModel",
            "_view_count": null,
            "_view_module": "@jupyter-widgets/controls",
            "_view_module_version": "1.5.0",
            "_view_name": "VBoxView",
            "box_style": "",
            "children": [
              "IPY_MODEL_2dba879fd39c4d98bfc7aa1671512adc",
              "IPY_MODEL_ab8b9828936a41ae8636ad1e06de804e"
            ],
            "layout": "IPY_MODEL_0ced4a5bc0c7487b84413a6ab798ca43"
          }
        },
        "d33a7c2ed49942759268b199e1f050a5": {
          "model_module": "@jupyter-widgets/base",
          "model_name": "LayoutModel",
          "model_module_version": "1.2.0",
          "state": {
            "_model_module": "@jupyter-widgets/base",
            "_model_module_version": "1.2.0",
            "_model_name": "LayoutModel",
            "_view_count": null,
            "_view_module": "@jupyter-widgets/base",
            "_view_module_version": "1.2.0",
            "_view_name": "LayoutView",
            "align_content": null,
            "align_items": null,
            "align_self": null,
            "border": null,
            "bottom": null,
            "display": null,
            "flex": null,
            "flex_flow": null,
            "grid_area": null,
            "grid_auto_columns": null,
            "grid_auto_flow": null,
            "grid_auto_rows": null,
            "grid_column": null,
            "grid_gap": null,
            "grid_row": null,
            "grid_template_areas": null,
            "grid_template_columns": null,
            "grid_template_rows": null,
            "height": null,
            "justify_content": null,
            "justify_items": null,
            "left": null,
            "margin": null,
            "max_height": null,
            "max_width": null,
            "min_height": null,
            "min_width": null,
            "object_fit": null,
            "object_position": null,
            "order": null,
            "overflow": null,
            "overflow_x": null,
            "overflow_y": null,
            "padding": null,
            "right": null,
            "top": null,
            "visibility": null,
            "width": null
          }
        },
        "2dba879fd39c4d98bfc7aa1671512adc": {
          "model_module": "@jupyter-widgets/controls",
          "model_name": "HTMLModel",
          "model_module_version": "1.5.0",
          "state": {
            "_dom_classes": [],
            "_model_module": "@jupyter-widgets/controls",
            "_model_module_version": "1.5.0",
            "_model_name": "HTMLModel",
            "_view_count": null,
            "_view_module": "@jupyter-widgets/controls",
            "_view_module_version": "1.5.0",
            "_view_name": "HTMLView",
            "description": "",
            "description_tooltip": null,
            "layout": "IPY_MODEL_4437758629d74584b20aec75cba433ad",
            "placeholder": "​",
            "style": "IPY_MODEL_42f0bb2b3bea46248cf0a711234fd06c",
            "value": "<h3 style=\"font-family:Trebuchet MS;color:#4f8bd6;margin-top:0px;\">\n                  Available drive to mount/unmount:</h3>\n                  "
          }
        },
        "ab8b9828936a41ae8636ad1e06de804e": {
          "model_module": "@jupyter-widgets/controls",
          "model_name": "DropdownModel",
          "model_module_version": "1.5.0",
          "state": {
            "_dom_classes": [],
            "_model_module": "@jupyter-widgets/controls",
            "_model_module_version": "1.5.0",
            "_model_name": "DropdownModel",
            "_options_labels": [
              "w"
            ],
            "_view_count": null,
            "_view_module": "@jupyter-widgets/controls",
            "_view_module_version": "1.5.0",
            "_view_name": "DropdownView",
            "description": "",
            "description_tooltip": null,
            "disabled": false,
            "index": 0,
            "layout": "IPY_MODEL_99737bbc71f043bb9b9d35165a176ada",
            "style": "IPY_MODEL_349ca32e50ca40bdb7d062c260284136"
          }
        },
        "0ced4a5bc0c7487b84413a6ab798ca43": {
          "model_module": "@jupyter-widgets/base",
          "model_name": "LayoutModel",
          "model_module_version": "1.2.0",
          "state": {
            "_model_module": "@jupyter-widgets/base",
            "_model_module_version": "1.2.0",
            "_model_name": "LayoutModel",
            "_view_count": null,
            "_view_module": "@jupyter-widgets/base",
            "_view_module_version": "1.2.0",
            "_view_name": "LayoutView",
            "align_content": null,
            "align_items": null,
            "align_self": null,
            "border": null,
            "bottom": null,
            "display": null,
            "flex": null,
            "flex_flow": null,
            "grid_area": null,
            "grid_auto_columns": null,
            "grid_auto_flow": null,
            "grid_auto_rows": null,
            "grid_column": null,
            "grid_gap": null,
            "grid_row": null,
            "grid_template_areas": null,
            "grid_template_columns": null,
            "grid_template_rows": null,
            "height": null,
            "justify_content": null,
            "justify_items": null,
            "left": null,
            "margin": null,
            "max_height": null,
            "max_width": null,
            "min_height": null,
            "min_width": null,
            "object_fit": null,
            "object_position": null,
            "order": null,
            "overflow": null,
            "overflow_x": null,
            "overflow_y": null,
            "padding": null,
            "right": null,
            "top": null,
            "visibility": null,
            "width": null
          }
        },
        "4437758629d74584b20aec75cba433ad": {
          "model_module": "@jupyter-widgets/base",
          "model_name": "LayoutModel",
          "model_module_version": "1.2.0",
          "state": {
            "_model_module": "@jupyter-widgets/base",
            "_model_module_version": "1.2.0",
            "_model_name": "LayoutModel",
            "_view_count": null,
            "_view_module": "@jupyter-widgets/base",
            "_view_module_version": "1.2.0",
            "_view_name": "LayoutView",
            "align_content": null,
            "align_items": null,
            "align_self": null,
            "border": null,
            "bottom": null,
            "display": null,
            "flex": null,
            "flex_flow": null,
            "grid_area": null,
            "grid_auto_columns": null,
            "grid_auto_flow": null,
            "grid_auto_rows": null,
            "grid_column": null,
            "grid_gap": null,
            "grid_row": null,
            "grid_template_areas": null,
            "grid_template_columns": null,
            "grid_template_rows": null,
            "height": null,
            "justify_content": null,
            "justify_items": null,
            "left": null,
            "margin": null,
            "max_height": null,
            "max_width": null,
            "min_height": null,
            "min_width": null,
            "object_fit": null,
            "object_position": null,
            "order": null,
            "overflow": null,
            "overflow_x": null,
            "overflow_y": null,
            "padding": null,
            "right": null,
            "top": null,
            "visibility": null,
            "width": null
          }
        },
        "42f0bb2b3bea46248cf0a711234fd06c": {
          "model_module": "@jupyter-widgets/controls",
          "model_name": "DescriptionStyleModel",
          "model_module_version": "1.5.0",
          "state": {
            "_model_module": "@jupyter-widgets/controls",
            "_model_module_version": "1.5.0",
            "_model_name": "DescriptionStyleModel",
            "_view_count": null,
            "_view_module": "@jupyter-widgets/base",
            "_view_module_version": "1.2.0",
            "_view_name": "StyleView",
            "description_width": ""
          }
        },
        "99737bbc71f043bb9b9d35165a176ada": {
          "model_module": "@jupyter-widgets/base",
          "model_name": "LayoutModel",
          "model_module_version": "1.2.0",
          "state": {
            "_model_module": "@jupyter-widgets/base",
            "_model_module_version": "1.2.0",
            "_model_name": "LayoutModel",
            "_view_count": null,
            "_view_module": "@jupyter-widgets/base",
            "_view_module_version": "1.2.0",
            "_view_name": "LayoutView",
            "align_content": null,
            "align_items": null,
            "align_self": null,
            "border": null,
            "bottom": null,
            "display": null,
            "flex": null,
            "flex_flow": null,
            "grid_area": null,
            "grid_auto_columns": null,
            "grid_auto_flow": null,
            "grid_auto_rows": null,
            "grid_column": null,
            "grid_gap": null,
            "grid_row": null,
            "grid_template_areas": null,
            "grid_template_columns": null,
            "grid_template_rows": null,
            "height": null,
            "justify_content": null,
            "justify_items": null,
            "left": null,
            "margin": null,
            "max_height": null,
            "max_width": null,
            "min_height": null,
            "min_width": null,
            "object_fit": null,
            "object_position": null,
            "order": null,
            "overflow": null,
            "overflow_x": null,
            "overflow_y": null,
            "padding": null,
            "right": null,
            "top": null,
            "visibility": null,
            "width": null
          }
        },
        "349ca32e50ca40bdb7d062c260284136": {
          "model_module": "@jupyter-widgets/controls",
          "model_name": "DescriptionStyleModel",
          "model_module_version": "1.5.0",
          "state": {
            "_model_module": "@jupyter-widgets/controls",
            "_model_module_version": "1.5.0",
            "_model_name": "DescriptionStyleModel",
            "_view_count": null,
            "_view_module": "@jupyter-widgets/base",
            "_view_module_version": "1.2.0",
            "_view_name": "StyleView",
            "description_width": ""
          }
        }
      }
    }
  },
  "nbformat": 4,
  "nbformat_minor": 0
}